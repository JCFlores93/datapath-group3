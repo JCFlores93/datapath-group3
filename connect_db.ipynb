{
 "cells": [
  {
   "cell_type": "code",
   "execution_count": 2,
   "metadata": {},
   "outputs": [
    {
     "name": "stdout",
     "output_type": "stream",
     "text": [
      "\u001b[33mDEPRECATION: Configuring installation scheme with distutils config files is deprecated and will no longer work in the near future. If you are using a Homebrew or Linuxbrew Python, please see discussion at https://github.com/Homebrew/homebrew-core/issues/76621\u001b[0m\u001b[33m\n",
      "\u001b[0mRequirement already satisfied: mysql-connector in /opt/homebrew/lib/python3.9/site-packages (2.2.9)\n",
      "\u001b[33mDEPRECATION: Configuring installation scheme with distutils config files is deprecated and will no longer work in the near future. If you are using a Homebrew or Linuxbrew Python, please see discussion at https://github.com/Homebrew/homebrew-core/issues/76621\u001b[0m\u001b[33m\n",
      "\u001b[0m\u001b[33mWARNING: There was an error checking the latest version of pip.\u001b[0m\u001b[33m\n",
      "\u001b[0mNote: you may need to restart the kernel to use updated packages.\n"
     ]
    }
   ],
   "source": [
    "%pip install mysql-connector"
   ]
  },
  {
   "cell_type": "code",
   "execution_count": 3,
   "metadata": {},
   "outputs": [
    {
     "ename": "InterfaceError",
     "evalue": "2003: Can't connect to MySQL server on 'localhost:3306' (61 Connection refused)",
     "output_type": "error",
     "traceback": [
      "\u001b[0;31m---------------------------------------------------------------------------\u001b[0m",
      "\u001b[0;31mConnectionRefusedError\u001b[0m                    Traceback (most recent call last)",
      "File \u001b[0;32m/opt/homebrew/lib/python3.9/site-packages/mysql/connector/network.py:509\u001b[0m, in \u001b[0;36mMySQLTCPSocket.open_connection\u001b[0;34m(self)\u001b[0m\n\u001b[1;32m    508\u001b[0m     \u001b[39mself\u001b[39m\u001b[39m.\u001b[39msock\u001b[39m.\u001b[39msettimeout(\u001b[39mself\u001b[39m\u001b[39m.\u001b[39m_connection_timeout)\n\u001b[0;32m--> 509\u001b[0m     \u001b[39mself\u001b[39;49m\u001b[39m.\u001b[39;49msock\u001b[39m.\u001b[39;49mconnect(sockaddr)\n\u001b[1;32m    510\u001b[0m \u001b[39mexcept\u001b[39;00m \u001b[39mIOError\u001b[39;00m \u001b[39mas\u001b[39;00m err:\n",
      "\u001b[0;31mConnectionRefusedError\u001b[0m: [Errno 61] Connection refused",
      "\nDuring handling of the above exception, another exception occurred:\n",
      "\u001b[0;31mInterfaceError\u001b[0m                            Traceback (most recent call last)",
      "\u001b[1;32m/Users/jeanflores/Desktop/courses/datapath/data_engineering_with_python/proyecto_final_python/connect_db.ipynb Cell 2'\u001b[0m in \u001b[0;36m<cell line: 3>\u001b[0;34m()\u001b[0m\n\u001b[1;32m      <a href='vscode-notebook-cell:/Users/jeanflores/Desktop/courses/datapath/data_engineering_with_python/proyecto_final_python/connect_db.ipynb#ch0000001?line=0'>1</a>\u001b[0m \u001b[39mimport\u001b[39;00m \u001b[39mmysql\u001b[39;00m\u001b[39m.\u001b[39;00m\u001b[39mconnector\u001b[39;00m\n\u001b[0;32m----> <a href='vscode-notebook-cell:/Users/jeanflores/Desktop/courses/datapath/data_engineering_with_python/proyecto_final_python/connect_db.ipynb#ch0000001?line=2'>3</a>\u001b[0m db \u001b[39m=\u001b[39m mysql\u001b[39m.\u001b[39;49mconnector\u001b[39m.\u001b[39;49mconnect(\n\u001b[1;32m      <a href='vscode-notebook-cell:/Users/jeanflores/Desktop/courses/datapath/data_engineering_with_python/proyecto_final_python/connect_db.ipynb#ch0000001?line=3'>4</a>\u001b[0m     host\u001b[39m=\u001b[39;49m\u001b[39m\"\u001b[39;49m\u001b[39mlocalhost\u001b[39;49m\u001b[39m\"\u001b[39;49m,\n\u001b[1;32m      <a href='vscode-notebook-cell:/Users/jeanflores/Desktop/courses/datapath/data_engineering_with_python/proyecto_final_python/connect_db.ipynb#ch0000001?line=4'>5</a>\u001b[0m     user\u001b[39m=\u001b[39;49m\u001b[39m\"\u001b[39;49m\u001b[39mroot\u001b[39;49m\u001b[39m\"\u001b[39;49m,\n\u001b[1;32m      <a href='vscode-notebook-cell:/Users/jeanflores/Desktop/courses/datapath/data_engineering_with_python/proyecto_final_python/connect_db.ipynb#ch0000001?line=5'>6</a>\u001b[0m     password\u001b[39m=\u001b[39;49m\u001b[39m\"\u001b[39;49m\u001b[39m123456\u001b[39;49m\u001b[39m\"\u001b[39;49m,\n\u001b[1;32m      <a href='vscode-notebook-cell:/Users/jeanflores/Desktop/courses/datapath/data_engineering_with_python/proyecto_final_python/connect_db.ipynb#ch0000001?line=6'>7</a>\u001b[0m     database\u001b[39m=\u001b[39;49m\u001b[39m\"\u001b[39;49m\u001b[39membargos\u001b[39;49m\u001b[39m\"\u001b[39;49m\n\u001b[1;32m      <a href='vscode-notebook-cell:/Users/jeanflores/Desktop/courses/datapath/data_engineering_with_python/proyecto_final_python/connect_db.ipynb#ch0000001?line=7'>8</a>\u001b[0m )\n",
      "File \u001b[0;32m/opt/homebrew/lib/python3.9/site-packages/mysql/connector/__init__.py:179\u001b[0m, in \u001b[0;36mconnect\u001b[0;34m(*args, **kwargs)\u001b[0m\n\u001b[1;32m    177\u001b[0m     \u001b[39mreturn\u001b[39;00m CMySQLConnection(\u001b[39m*\u001b[39margs, \u001b[39m*\u001b[39m\u001b[39m*\u001b[39mkwargs)\n\u001b[1;32m    178\u001b[0m \u001b[39melse\u001b[39;00m:\n\u001b[0;32m--> 179\u001b[0m     \u001b[39mreturn\u001b[39;00m MySQLConnection(\u001b[39m*\u001b[39;49margs, \u001b[39m*\u001b[39;49m\u001b[39m*\u001b[39;49mkwargs)\n",
      "File \u001b[0;32m/opt/homebrew/lib/python3.9/site-packages/mysql/connector/connection.py:95\u001b[0m, in \u001b[0;36mMySQLConnection.__init__\u001b[0;34m(self, *args, **kwargs)\u001b[0m\n\u001b[1;32m     92\u001b[0m \u001b[39mself\u001b[39m\u001b[39m.\u001b[39m_pool_config_version \u001b[39m=\u001b[39m \u001b[39mNone\u001b[39;00m\n\u001b[1;32m     94\u001b[0m \u001b[39mif\u001b[39;00m \u001b[39mlen\u001b[39m(kwargs) \u001b[39m>\u001b[39m \u001b[39m0\u001b[39m:\n\u001b[0;32m---> 95\u001b[0m     \u001b[39mself\u001b[39;49m\u001b[39m.\u001b[39;49mconnect(\u001b[39m*\u001b[39;49m\u001b[39m*\u001b[39;49mkwargs)\n",
      "File \u001b[0;32m/opt/homebrew/lib/python3.9/site-packages/mysql/connector/abstracts.py:716\u001b[0m, in \u001b[0;36mMySQLConnectionAbstract.connect\u001b[0;34m(self, **kwargs)\u001b[0m\n\u001b[1;32m    713\u001b[0m     \u001b[39mself\u001b[39m\u001b[39m.\u001b[39mconfig(\u001b[39m*\u001b[39m\u001b[39m*\u001b[39mkwargs)\n\u001b[1;32m    715\u001b[0m \u001b[39mself\u001b[39m\u001b[39m.\u001b[39mdisconnect()\n\u001b[0;32m--> 716\u001b[0m \u001b[39mself\u001b[39;49m\u001b[39m.\u001b[39;49m_open_connection()\n\u001b[1;32m    717\u001b[0m \u001b[39mself\u001b[39m\u001b[39m.\u001b[39m_post_connection()\n",
      "File \u001b[0;32m/opt/homebrew/lib/python3.9/site-packages/mysql/connector/connection.py:206\u001b[0m, in \u001b[0;36mMySQLConnection._open_connection\u001b[0;34m(self)\u001b[0m\n\u001b[1;32m    204\u001b[0m \u001b[39mself\u001b[39m\u001b[39m.\u001b[39m_protocol \u001b[39m=\u001b[39m MySQLProtocol()\n\u001b[1;32m    205\u001b[0m \u001b[39mself\u001b[39m\u001b[39m.\u001b[39m_socket \u001b[39m=\u001b[39m \u001b[39mself\u001b[39m\u001b[39m.\u001b[39m_get_connection()\n\u001b[0;32m--> 206\u001b[0m \u001b[39mself\u001b[39;49m\u001b[39m.\u001b[39;49m_socket\u001b[39m.\u001b[39;49mopen_connection()\n\u001b[1;32m    207\u001b[0m \u001b[39mself\u001b[39m\u001b[39m.\u001b[39m_do_handshake()\n\u001b[1;32m    208\u001b[0m \u001b[39mself\u001b[39m\u001b[39m.\u001b[39m_do_auth(\u001b[39mself\u001b[39m\u001b[39m.\u001b[39m_user, \u001b[39mself\u001b[39m\u001b[39m.\u001b[39m_password,\n\u001b[1;32m    209\u001b[0m               \u001b[39mself\u001b[39m\u001b[39m.\u001b[39m_database, \u001b[39mself\u001b[39m\u001b[39m.\u001b[39m_client_flags, \u001b[39mself\u001b[39m\u001b[39m.\u001b[39m_charset_id,\n\u001b[1;32m    210\u001b[0m               \u001b[39mself\u001b[39m\u001b[39m.\u001b[39m_ssl)\n",
      "File \u001b[0;32m/opt/homebrew/lib/python3.9/site-packages/mysql/connector/network.py:511\u001b[0m, in \u001b[0;36mMySQLTCPSocket.open_connection\u001b[0;34m(self)\u001b[0m\n\u001b[1;32m    509\u001b[0m     \u001b[39mself\u001b[39m\u001b[39m.\u001b[39msock\u001b[39m.\u001b[39mconnect(sockaddr)\n\u001b[1;32m    510\u001b[0m \u001b[39mexcept\u001b[39;00m \u001b[39mIOError\u001b[39;00m \u001b[39mas\u001b[39;00m err:\n\u001b[0;32m--> 511\u001b[0m     \u001b[39mraise\u001b[39;00m errors\u001b[39m.\u001b[39mInterfaceError(\n\u001b[1;32m    512\u001b[0m         errno\u001b[39m=\u001b[39m\u001b[39m2003\u001b[39m, values\u001b[39m=\u001b[39m(\u001b[39mself\u001b[39m\u001b[39m.\u001b[39mget_address(), _strioerror(err)))\n\u001b[1;32m    513\u001b[0m \u001b[39mexcept\u001b[39;00m \u001b[39mException\u001b[39;00m \u001b[39mas\u001b[39;00m err:\n\u001b[1;32m    514\u001b[0m     \u001b[39mraise\u001b[39;00m errors\u001b[39m.\u001b[39mOperationalError(\u001b[39mstr\u001b[39m(err))\n",
      "\u001b[0;31mInterfaceError\u001b[0m: 2003: Can't connect to MySQL server on 'localhost:3306' (61 Connection refused)"
     ]
    }
   ],
   "source": [
    "import mysql.connector\n",
    "\n",
    "db = mysql.connector.connect(\n",
    "    host=\"localhost\",\n",
    "    user=\"root\",\n",
    "    password=\"123456\",\n",
    "    database=\"embargos\"\n",
    ") "
   ]
  },
  {
   "cell_type": "code",
   "execution_count": 4,
   "metadata": {},
   "outputs": [
    {
     "ename": "NameError",
     "evalue": "name 'db' is not defined",
     "output_type": "error",
     "traceback": [
      "\u001b[0;31m---------------------------------------------------------------------------\u001b[0m",
      "\u001b[0;31mNameError\u001b[0m                                 Traceback (most recent call last)",
      "\u001b[1;32m/Users/jeanflores/Desktop/courses/datapath/data_engineering_with_python/proyecto_final_python/connect_db.ipynb Cell 3'\u001b[0m in \u001b[0;36m<cell line: 1>\u001b[0;34m()\u001b[0m\n\u001b[0;32m----> <a href='vscode-notebook-cell:/Users/jeanflores/Desktop/courses/datapath/data_engineering_with_python/proyecto_final_python/connect_db.ipynb#ch0000003?line=0'>1</a>\u001b[0m cr \u001b[39m=\u001b[39m db\u001b[39m.\u001b[39mcursor(buffered\u001b[39m=\u001b[39m\u001b[39mTrue\u001b[39;00m)\n",
      "\u001b[0;31mNameError\u001b[0m: name 'db' is not defined"
     ]
    }
   ],
   "source": [
    "cr = db.cursor(buffered=True)"
   ]
  },
  {
   "cell_type": "code",
   "execution_count": 5,
   "metadata": {},
   "outputs": [
    {
     "ename": "NameError",
     "evalue": "name 'cr' is not defined",
     "output_type": "error",
     "traceback": [
      "\u001b[0;31m---------------------------------------------------------------------------\u001b[0m",
      "\u001b[0;31mNameError\u001b[0m                                 Traceback (most recent call last)",
      "\u001b[1;32m/Users/jeanflores/Desktop/courses/datapath/data_engineering_with_python/proyecto_final_python/connect_db.ipynb Cell 4'\u001b[0m in \u001b[0;36m<cell line: 1>\u001b[0;34m()\u001b[0m\n\u001b[0;32m----> <a href='vscode-notebook-cell:/Users/jeanflores/Desktop/courses/datapath/data_engineering_with_python/proyecto_final_python/connect_db.ipynb#ch0000004?line=0'>1</a>\u001b[0m cr\u001b[39m.\u001b[39mexecute(\u001b[39m'''\u001b[39m\n\u001b[1;32m      <a href='vscode-notebook-cell:/Users/jeanflores/Desktop/courses/datapath/data_engineering_with_python/proyecto_final_python/connect_db.ipynb#ch0000004?line=1'>2</a>\u001b[0m \u001b[39m    CREATE TABLE IF NOT EXISTS embargos (\u001b[39m\n\u001b[1;32m      <a href='vscode-notebook-cell:/Users/jeanflores/Desktop/courses/datapath/data_engineering_with_python/proyecto_final_python/connect_db.ipynb#ch0000004?line=2'>3</a>\u001b[0m \u001b[39m    estado varchar(4) NOT NULL,\u001b[39m\n\u001b[1;32m      <a href='vscode-notebook-cell:/Users/jeanflores/Desktop/courses/datapath/data_engineering_with_python/proyecto_final_python/connect_db.ipynb#ch0000004?line=3'>4</a>\u001b[0m \u001b[39m    anotacion varchar(30) NOT NULL,\u001b[39m\n\u001b[1;32m      <a href='vscode-notebook-cell:/Users/jeanflores/Desktop/courses/datapath/data_engineering_with_python/proyecto_final_python/connect_db.ipynb#ch0000004?line=4'>5</a>\u001b[0m \u001b[39m    localidad varchar(30) NOT NULL,\u001b[39m\n\u001b[1;32m      <a href='vscode-notebook-cell:/Users/jeanflores/Desktop/courses/datapath/data_engineering_with_python/proyecto_final_python/connect_db.ipynb#ch0000004?line=5'>6</a>\u001b[0m \u001b[39m    complejidad varchar(50) NOT NULL,\u001b[39m\n\u001b[1;32m      <a href='vscode-notebook-cell:/Users/jeanflores/Desktop/courses/datapath/data_engineering_with_python/proyecto_final_python/connect_db.ipynb#ch0000004?line=6'>7</a>\u001b[0m \u001b[39m    detalle_complejidad varchar(50) NOT NULL,\u001b[39m\n\u001b[1;32m      <a href='vscode-notebook-cell:/Users/jeanflores/Desktop/courses/datapath/data_engineering_with_python/proyecto_final_python/connect_db.ipynb#ch0000004?line=7'>8</a>\u001b[0m \u001b[39m    encargado varchar(100) NOT NULL,\u001b[39m\n\u001b[1;32m      <a href='vscode-notebook-cell:/Users/jeanflores/Desktop/courses/datapath/data_engineering_with_python/proyecto_final_python/connect_db.ipynb#ch0000004?line=8'>9</a>\u001b[0m \u001b[39m    fecha_recepcion varchar(10) NOT NULL,\u001b[39m\n\u001b[1;32m     <a href='vscode-notebook-cell:/Users/jeanflores/Desktop/courses/datapath/data_engineering_with_python/proyecto_final_python/connect_db.ipynb#ch0000004?line=9'>10</a>\u001b[0m \u001b[39m    hora_recepcion varchar(10) NOT NULL,\u001b[39m\n\u001b[1;32m     <a href='vscode-notebook-cell:/Users/jeanflores/Desktop/courses/datapath/data_engineering_with_python/proyecto_final_python/connect_db.ipynb#ch0000004?line=10'>11</a>\u001b[0m \u001b[39m    job_id varchar(20) NOT NULL,\u001b[39m\n\u001b[1;32m     <a href='vscode-notebook-cell:/Users/jeanflores/Desktop/courses/datapath/data_engineering_with_python/proyecto_final_python/connect_db.ipynb#ch0000004?line=11'>12</a>\u001b[0m \u001b[39m    fecha_embargo varchar(20) NOT NULL,\u001b[39m\n\u001b[1;32m     <a href='vscode-notebook-cell:/Users/jeanflores/Desktop/courses/datapath/data_engineering_with_python/proyecto_final_python/connect_db.ipynb#ch0000004?line=12'>13</a>\u001b[0m \u001b[39m    id_oracle varchar(20) NOT NULL,\u001b[39m\n\u001b[1;32m     <a href='vscode-notebook-cell:/Users/jeanflores/Desktop/courses/datapath/data_engineering_with_python/proyecto_final_python/connect_db.ipynb#ch0000004?line=13'>14</a>\u001b[0m \u001b[39m    efectivo varchar(10) NOT NULL,\u001b[39m\n\u001b[1;32m     <a href='vscode-notebook-cell:/Users/jeanflores/Desktop/courses/datapath/data_engineering_with_python/proyecto_final_python/connect_db.ipynb#ch0000004?line=14'>15</a>\u001b[0m \u001b[39m    tipo_documento varchar(20) NOT NULL,\u001b[39m\n\u001b[1;32m     <a href='vscode-notebook-cell:/Users/jeanflores/Desktop/courses/datapath/data_engineering_with_python/proyecto_final_python/connect_db.ipynb#ch0000004?line=15'>16</a>\u001b[0m \u001b[39m    numero_documento varchar(20) NOT NULL,\u001b[39m\n\u001b[1;32m     <a href='vscode-notebook-cell:/Users/jeanflores/Desktop/courses/datapath/data_engineering_with_python/proyecto_final_python/connect_db.ipynb#ch0000004?line=16'>17</a>\u001b[0m \u001b[39m    tipo_cuenta varchar(20) NOT NULL,\u001b[39m\n\u001b[1;32m     <a href='vscode-notebook-cell:/Users/jeanflores/Desktop/courses/datapath/data_engineering_with_python/proyecto_final_python/connect_db.ipynb#ch0000004?line=17'>18</a>\u001b[0m \u001b[39m    numero_cuenta varchar(20) NOT NULL\u001b[39m\n\u001b[1;32m     <a href='vscode-notebook-cell:/Users/jeanflores/Desktop/courses/datapath/data_engineering_with_python/proyecto_final_python/connect_db.ipynb#ch0000004?line=18'>19</a>\u001b[0m \u001b[39m    )\u001b[39m\n\u001b[1;32m     <a href='vscode-notebook-cell:/Users/jeanflores/Desktop/courses/datapath/data_engineering_with_python/proyecto_final_python/connect_db.ipynb#ch0000004?line=19'>20</a>\u001b[0m \u001b[39m'''\u001b[39m)\n",
      "\u001b[0;31mNameError\u001b[0m: name 'cr' is not defined"
     ]
    }
   ],
   "source": [
    "cr.execute('''\n",
    "    CREATE TABLE IF NOT EXISTS embargos (\n",
    "    estado varchar(4) NOT NULL,\n",
    "    anotacion varchar(30) NOT NULL,\n",
    "    localidad varchar(30) NOT NULL,\n",
    "    complejidad varchar(50) NOT NULL,\n",
    "    detalle_complejidad varchar(50) NOT NULL,\n",
    "    encargado varchar(100) NOT NULL,\n",
    "    fecha_recepcion varchar(10) NOT NULL,\n",
    "    hora_recepcion varchar(10) NOT NULL,\n",
    "    job_id varchar(20) NOT NULL,\n",
    "    fecha_embargo varchar(20) NOT NULL,\n",
    "    id_oracle varchar(20) NOT NULL,\n",
    "    efectivo varchar(10) NOT NULL,\n",
    "    tipo_documento varchar(20) NOT NULL,\n",
    "    numero_documento varchar(20) NOT NULL,\n",
    "    tipo_cuenta varchar(20) NOT NULL,\n",
    "    numero_cuenta varchar(20) NOT NULL\n",
    "    )\n",
    "''')"
   ]
  },
  {
   "cell_type": "code",
   "execution_count": null,
   "metadata": {},
   "outputs": [],
   "source": [
    "cr.execute('''\n",
    "CREATE TABLE IF NOT EXISTS productos (\n",
    "    tipo_documento varchar(20) NOT NULL,\n",
    "    numero_documento varchar(20) NOT NULL,\n",
    "    fecha_apertura varchar(20) NOT NULL,\n",
    "    estado varchar(5) NOT NULL,\n",
    "    plan varchar(5) NOT NULL,\n",
    "    saldo_disponible varchar(20) NOT NULL,\n",
    "    cuenta_inembargable varchar(20) NOT NULL,\n",
    "    nombre_completo varchar(100) NOT NULL,\n",
    "    nombre_corto varchar(20) NOT NULL,\n",
    "    oficina_duena varchar(20) NOT NULL,\n",
    "    marcacion_cuenta varchar(20) NOT NULL,\n",
    "    cuenta_embargada varchar(20) NOT NULL\n",
    "    )\n",
    "''')"
   ]
  }
 ],
 "metadata": {
  "kernelspec": {
   "display_name": "Python 3.9.13 64-bit",
   "language": "python",
   "name": "python3"
  },
  "language_info": {
   "codemirror_mode": {
    "name": "ipython",
    "version": 3
   },
   "file_extension": ".py",
   "mimetype": "text/x-python",
   "name": "python",
   "nbconvert_exporter": "python",
   "pygments_lexer": "ipython3",
   "version": "3.9.13"
  },
  "orig_nbformat": 4,
  "vscode": {
   "interpreter": {
    "hash": "b0fa6594d8f4cbf19f97940f81e996739fb7646882a419484c72d19e05852a7e"
   }
  }
 },
 "nbformat": 4,
 "nbformat_minor": 2
}
